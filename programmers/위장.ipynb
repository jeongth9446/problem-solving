{
 "cells": [
  {
   "cell_type": "code",
   "execution_count": null,
   "id": "92159dd4",
   "metadata": {},
   "outputs": [],
   "source": [
    "def solution(clothes):\n",
    "    answer = 0\n",
    "    dict = {'test':0}\n",
    "    for p in clothes:\n",
    "        dict[p[1]] = 0\n",
    "    \n",
    "    for p in clothes:\n",
    "        dict[p[1]] = dict[p[1]]+ 1\n",
    "\n",
    "    sum = 1\n",
    "    \n",
    "    for p in dict.values():\n",
    "        sum *= (p+1)\n",
    "    \n",
    "    return sum-1"
   ]
  }
 ],
 "metadata": {
  "kernelspec": {
   "display_name": "Python 3",
   "language": "python",
   "name": "python3"
  },
  "language_info": {
   "codemirror_mode": {
    "name": "ipython",
    "version": 3
   },
   "file_extension": ".py",
   "mimetype": "text/x-python",
   "name": "python",
   "nbconvert_exporter": "python",
   "pygments_lexer": "ipython3",
   "version": "3.8.8"
  }
 },
 "nbformat": 4,
 "nbformat_minor": 5
}
